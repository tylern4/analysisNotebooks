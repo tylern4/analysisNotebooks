{
 "cells": [
  {
   "cell_type": "code",
   "execution_count": 1,
   "metadata": {},
   "outputs": [],
   "source": [
    "%matplotlib inline\n",
    "import lux\n",
    "#import pandas as pd\n",
    "import modin.pandas as pd\n",
    "from pyarrow import csv\n",
    "import time\n",
    "from lmfit import Model\n",
    "from lmfit.models import *\n",
    "from scipy.special import erfc\n",
    "from scipy.interpolate import interp1d\n",
    "import boost_histogram as bh\n",
    "import matplotlib.pyplot as plt\n",
    "from scipy import stats\n",
    "\n",
    "\n",
    "from nicks_plot_utils import *"
   ]
  },
  {
   "cell_type": "code",
   "execution_count": 2,
   "metadata": {},
   "outputs": [],
   "source": [
    "def read_csv(file_name: str = \"\", data: bool = False):\n",
    "    names = [\n",
    "        \"electron_sector\",\n",
    "        \"w\",\n",
    "        \"q2\",\n",
    "        \"theta\",\n",
    "        \"phi\",\n",
    "        \"mm2\",\n",
    "        \"cut_fid\",\n",
    "        \"helicty\",\n",
    "        \"type\"\n",
    "    ]\n",
    "    dtype = {\n",
    "        \"electron_sector\": \"int8\",\n",
    "        \"helicty\": \"int8\",\n",
    "        \"w\": \"float32\",\n",
    "        \"q2\": \"float32\",\n",
    "        \"theta\": \"float32\",\n",
    "        \"phi\": \"float32\",\n",
    "        \"mm2\": \"float32\",\n",
    "        \"cut_fid\": \"bool\",\n",
    "    }\n",
    "\n",
    "\n",
    "    # Load file into pyTable before changing to pandas\n",
    "    pyTable = csv.read_csv(\n",
    "        file_name,\n",
    "        read_options=csv.ReadOptions(\n",
    "            use_threads=True, column_names=names),\n",
    "        convert_options=csv.ConvertOptions(column_types=dtype),\n",
    "    )\n",
    "    df = pyTable.to_pandas(strings_to_categorical=True)\n",
    "\n",
    "    if data:\n",
    "        return df.dropna()\n",
    "\n",
    "    mc_rec = df[df.type == \"mc_rec\"].dropna()\n",
    "    thrown = df[df.type == \"thrown\"].dropna()\n",
    "    del df\n",
    "\n",
    "    return (\n",
    "        mc_rec,\n",
    "        thrown,\n",
    "    )"
   ]
  },
  {
   "cell_type": "code",
   "execution_count": 3,
   "metadata": {},
   "outputs": [
    {
     "ename": "KeyboardInterrupt",
     "evalue": "",
     "output_type": "error",
     "traceback": [
      "\u001b[0;31m---------------------------------------------------------------------------\u001b[0m\n\u001b[0;31mKeyboardInterrupt\u001b[0m                         Traceback (most recent call last)",
      "File \u001b[0;34m/usr/local/lib/python3.8/site-packages/IPython/core/interactiveshell.py\u001b[0m, in \u001b[0;32mrun_code\u001b[0m:\nLine \u001b[0;34m3437\u001b[0m:  exec(code_obj, \u001b[36mself\u001b[39;49;00m.user_global_ns, \u001b[36mself\u001b[39;49;00m.user_ns)\n",
      "In  \u001b[0;34m[3]\u001b[0m:\nLine \u001b[0;34m5\u001b[0m:     mc_rec, mc_thrown = read_csv(mc_data_file_path)\n",
      "In  \u001b[0;34m[2]\u001b[0m:\nLine \u001b[0;34m26\u001b[0m:    pyTable = csv.read_csv(\n",
      "\u001b[0;31mKeyboardInterrupt\u001b[0m: \n\u001b[0;31m---------------------------------------------------------------------------\u001b[0m"
     ]
    }
   ],
   "source": [
    "mc_data_file_path = \"/Users/tylern/Data/e1d/data/mc_rec_e1d.csv\"\n",
    "rec_data_file_path = \"/Users/tylern/Data/e1d/data/data_e1d.csv\"\n",
    "\n",
    "\n",
    "#mc_rec, mc_thrown = read_csv(mc_data_file_path)\n",
    "rec = read_csv(rec_data_file_path, True)"
   ]
  },
  {
   "cell_type": "code",
   "execution_count": null,
   "metadata": {},
   "outputs": [],
   "source": [
    "rec.head()"
   ]
  },
  {
   "cell_type": "code",
   "execution_count": null,
   "metadata": {},
   "outputs": [],
   "source": [
    "# fig, ax = plt.subplots(nrows=1, ncols=1, figsize=[12,8])\n",
    "# mm2 = Hist1D(rec.mm2, bins=500, xrange=[0.6, 1.4])\n",
    "# mm2.histogram(ax, alpha=0.5, density=True, label='Data')\n",
    "\n",
    "# MCmm2 = Hist1D(mc_rec.mm2, bins=500, xrange=[0.6, 1.4])\n",
    "# MCmm2.histogram(ax, alpha=0.5, density=True, label='Monte Carlo')\n",
    "# ax.plot(mm2.x, (mm2.y - MCmm2.y), label=\"Difference (Data-MC)\")\n",
    "\n",
    "\n",
    "# plt.title(r\"Missing Mass Squared $e ( p, \\pi^{+} X ) e^{\\prime}$, Data and Monte Carlo\")\n",
    "# plt.xlabel(r\"Missing Mass Squared [$GeV^2$]\")\n",
    "# plt.legend()\n",
    "# ax.set_xlim(0.6,1.4)\n",
    "# plt.axhline(0, alpha=0.2, c='k', zorder=5)\n",
    "\n",
    "# plt.show()"
   ]
  },
  {
   "cell_type": "code",
   "execution_count": null,
   "metadata": {},
   "outputs": [],
   "source": []
  }
 ],
 "metadata": {
  "kernelspec": {
   "display_name": "Python 3.8 (XPython)",
   "language": "python",
   "name": "xpython"
  },
  "language_info": {
   "file_extension": ".py",
   "mimetype": "text/x-python",
   "name": "python",
   "version": "3.8.5"
  }
 },
 "nbformat": 4,
 "nbformat_minor": 4
}
