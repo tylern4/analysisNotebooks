{
 "cells": [
  {
   "cell_type": "code",
   "execution_count": 1,
   "metadata": {},
   "outputs": [],
   "source": [
    "%load_ext Cython"
   ]
  },
  {
   "cell_type": "code",
   "execution_count": 2,
   "metadata": {},
   "outputs": [],
   "source": [
    "%matplotlib inline\n",
    "\n",
    "import matplotlib.pyplot as plt\n",
    "import numpy as np\n",
    "\n",
    "import pandas as pd\n",
    "\n",
    "from tqdm import tqdm\n",
    "from scipy.special import erfc\n",
    "import boost_histogram as bh\n",
    "\n",
    "from lmfit.models import *\n",
    "from lmfit import Model\n",
    "\n",
    "import inspect"
   ]
  },
  {
   "cell_type": "code",
   "execution_count": 3,
   "metadata": {},
   "outputs": [
    {
     "data": {
      "text/html": [
       "<div>\n",
       "<style scoped>\n",
       "    .dataframe tbody tr th:only-of-type {\n",
       "        vertical-align: middle;\n",
       "    }\n",
       "\n",
       "    .dataframe tbody tr th {\n",
       "        vertical-align: top;\n",
       "    }\n",
       "\n",
       "    .dataframe thead th {\n",
       "        text-align: right;\n",
       "    }\n",
       "</style>\n",
       "<table border=\"1\" class=\"dataframe\">\n",
       "  <thead>\n",
       "    <tr style=\"text-align: right;\">\n",
       "      <th></th>\n",
       "      <th>index</th>\n",
       "      <th>Longitude</th>\n",
       "      <th>Latitude</th>\n",
       "      <th>Timestamp</th>\n",
       "      <th>ID</th>\n",
       "    </tr>\n",
       "  </thead>\n",
       "  <tbody>\n",
       "    <tr>\n",
       "      <th>0</th>\n",
       "      <td>68283</td>\n",
       "      <td>-74.8736</td>\n",
       "      <td>40.1525</td>\n",
       "      <td>2021-01-10 14:30:29</td>\n",
       "      <td>GDUogO9YBIum</td>\n",
       "    </tr>\n",
       "    <tr>\n",
       "      <th>1</th>\n",
       "      <td>68282</td>\n",
       "      <td>-1.3831</td>\n",
       "      <td>53.1322</td>\n",
       "      <td>2021-01-10 14:28:45</td>\n",
       "      <td>fMLDzSX5shT9</td>\n",
       "    </tr>\n",
       "    <tr>\n",
       "      <th>2</th>\n",
       "      <td>68281</td>\n",
       "      <td>-97.7549</td>\n",
       "      <td>32.4329</td>\n",
       "      <td>2021-01-10 14:26:31</td>\n",
       "      <td>zvUrflofUr0I</td>\n",
       "    </tr>\n",
       "    <tr>\n",
       "      <th>3</th>\n",
       "      <td>68280</td>\n",
       "      <td>-84.2914</td>\n",
       "      <td>39.3570</td>\n",
       "      <td>2021-01-10 14:26:08</td>\n",
       "      <td>XuDwTY5Sz1Bw</td>\n",
       "    </tr>\n",
       "    <tr>\n",
       "      <th>4</th>\n",
       "      <td>68279</td>\n",
       "      <td>-95.9609</td>\n",
       "      <td>36.1259</td>\n",
       "      <td>2021-01-10 14:24:27</td>\n",
       "      <td>1wp1f61BHG0U</td>\n",
       "    </tr>\n",
       "  </tbody>\n",
       "</table>\n",
       "</div>"
      ],
      "text/plain": [
       "   index  Longitude  Latitude            Timestamp            ID\n",
       "0  68283   -74.8736   40.1525  2021-01-10 14:30:29  GDUogO9YBIum\n",
       "1  68282    -1.3831   53.1322  2021-01-10 14:28:45  fMLDzSX5shT9\n",
       "2  68281   -97.7549   32.4329  2021-01-10 14:26:31  zvUrflofUr0I\n",
       "3  68280   -84.2914   39.3570  2021-01-10 14:26:08  XuDwTY5Sz1Bw\n",
       "4  68279   -95.9609   36.1259  2021-01-10 14:24:27  1wp1f61BHG0U"
      ]
     },
     "execution_count": 3,
     "metadata": {},
     "output_type": "execute_result"
    }
   ],
   "source": [
    "df = pd.read_csv(\"/Users/tylern/Downloads/parler-videos-geocoded.csv\")\n",
    "df = df[~(df.Longitude == 0) & ~(df.Latitude == 0)]\n",
    "df = df.sort_values(['Timestamp'],ascending=False).reset_index()\n",
    "df.head()"
   ]
  },
  {
   "cell_type": "code",
   "execution_count": 7,
   "metadata": {},
   "outputs": [
    {
     "data": {
      "image/png": "[encoded data removed]",
      "text/plain": [
       "<Figure size 864x648 with 1 Axes>"
      ]
     },
     "metadata": {},
     "output_type": "display_data"
    }
   ],
   "source": [
    "fig = plt.figure(num=None, figsize=(12,9), facecolor='w', edgecolor='k')\n",
    "plt.hist2d(df.Longitude, df.Latitude, bins=100, range=[[-130,-60],[30,50]], cmin=1)\n",
    "plt.show()"
   ]
  },
  {
   "cell_type": "code",
   "execution_count": null,
   "metadata": {},
   "outputs": [],
   "source": []
  }
 ],
 "metadata": {
  "kernelspec": {
   "display_name": "Python 3",
   "language": "python",
   "name": "python3"
  },
  "language_info": {
   "codemirror_mode": {
    "name": "ipython",
    "version": 3
   },
   "file_extension": ".py",
   "mimetype": "text/x-python",
   "name": "python",
   "nbconvert_exporter": "python",
   "pygments_lexer": "ipython3",
   "version": "3.8.6"
  }
 },
 "nbformat": 4,
 "nbformat_minor": 4
}
